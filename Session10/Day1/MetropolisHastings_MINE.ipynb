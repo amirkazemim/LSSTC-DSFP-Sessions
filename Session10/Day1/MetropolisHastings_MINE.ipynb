{
 "cells": [
  {
   "cell_type": "code",
   "execution_count": 1,
   "metadata": {
    "slideshow": {
     "slide_type": "skip"
    }
   },
   "outputs": [],
   "source": [
    "import numpy as np\n",
    "import pandas as pd\n",
    "\n",
    "import matplotlib.pyplot as plt"
   ]
  },
  {
   "cell_type": "code",
   "execution_count": 2,
   "metadata": {
    "slideshow": {
     "slide_type": "skip"
    }
   },
   "outputs": [],
   "source": [
    "%matplotlib notebook"
   ]
  },
  {
   "cell_type": "markdown",
   "metadata": {
    "slideshow": {
     "slide_type": "slide"
    }
   },
   "source": [
    "# Construction Zone: Building a Metropolis-Hastings Sampler From Scratch\n",
    "\n",
    "#### Version 0.1\n",
    "\n",
    "-----\n",
    "\n",
    "By AA Miller (Northwestern/Adler Planetarium)\n",
    "\n",
    "27 Aug 2019"
   ]
  },
  {
   "cell_type": "markdown",
   "metadata": {
    "slideshow": {
     "slide_type": "slide"
    }
   },
   "source": [
    "As we just saw, Bayes' Law provides a framework for understanding/inferring model parameters *given* some observations/data:\n",
    "\n",
    "$$P(\\theta\\mid\\mathbf{x}) = \\frac{P(\\mathbf{x}\\mid\\theta)\\;P(\\theta)}{P(\\mathbf{x})},$$\n",
    "\n",
    "where we have used the short-hand notation with $\\theta$ representing the model parameters, and $\\mathbf{x}$ representing the data. "
   ]
  },
  {
   "cell_type": "markdown",
   "metadata": {
    "slideshow": {
     "slide_type": "slide"
    }
   },
   "source": [
    "To redefine some terms,\n",
    "\n",
    "$P(\\mathbf{x}\\mid\\theta)$, the probability of the data given the model parameters, is the *likelihood*, $\\mathcal{L}$.\n",
    "\n",
    "$P(\\theta)$, the probability of the model parameters, is the *prior*.\n",
    "\n",
    "$P(\\mathbf{x})$ the probability of the data, is the *evidence*. (That sounds weird right? More on this in a bit...)\n",
    "\n",
    "Finally, $P(\\theta\\mid\\mathbf{x})$, the probability of the model parameters given the data, is the *posterior*, $\\pi$. "
   ]
  },
  {
   "cell_type": "markdown",
   "metadata": {
    "slideshow": {
     "slide_type": "subslide"
    }
   },
   "source": [
    "We typically want to estimate some model parameters, $\\theta$, and thus we need to integrate the posterior, $P(\\theta\\mid\\mathbf{x})$.\n",
    "\n",
    "This is **hard**."
   ]
  },
  {
   "cell_type": "markdown",
   "metadata": {
    "slideshow": {
     "slide_type": "subslide"
    }
   },
   "source": [
    "In particular, how in the world are we supposed to estimate the *probability of data*?!\n",
    "\n",
    "This is – capital H – **Hard**.\n",
    "\n",
    "(We will discuss this on Friday)"
   ]
  },
  {
   "cell_type": "markdown",
   "metadata": {
    "slideshow": {
     "slide_type": "subslide"
    }
   },
   "source": [
    "Fortunately, $P(\\mathbf{x})$ simply serves as a normalization term, and, in many applications, can be ignored. \n",
    "\n",
    "Thus, given that the posterior is $\\propto \\mathcal{L}\\;P(\\theta)$, we can maximize the posterior by maximizing the product of the likelihood and the prior. While this still leaves a complicated integral, there are many tools that can approximate that integral rather efficiently..."
   ]
  },
  {
   "cell_type": "markdown",
   "metadata": {
    "slideshow": {
     "slide_type": "subslide"
    }
   },
   "source": [
    "including the Metropolis-Hastings algorithm!"
   ]
  },
  {
   "cell_type": "markdown",
   "metadata": {
    "slideshow": {
     "slide_type": "slide"
    }
   },
   "source": [
    "## Problem 1) Simulate the Observations\n",
    "\n",
    "As we work towards implementing the MH sampler, we will attempt to solve a very common problem in the statistical literature: estimating the slope and intercept of a line from noisy data.\n",
    "\n",
    "Here we will simulate some data with known model parameters so we can later compare our estimates to the correct answer."
   ]
  },
  {
   "cell_type": "markdown",
   "metadata": {
    "slideshow": {
     "slide_type": "slide"
    }
   },
   "source": [
    "**Problem 1a**\n",
    "\n",
    "Draw 40 observations between 0 and 100 from a linear model with slope, $m = 2.3$, and intercept, $b = 15$. Assume that each observation is drawn from a Gaussian distribution with mean $\\mu = 0$ and variance, $\\sigma^2$ = 2500."
   ]
  },
  {
   "cell_type": "code",
   "execution_count": 4,
   "metadata": {
    "slideshow": {
     "slide_type": "subslide"
    }
   },
   "outputs": [],
   "source": [
    "np.random.seed(212)\n",
    "m_true = 2.3 # complete\n",
    "b_true = 15 # complete\n",
    "x = np.random.uniform(low=0, high=100, size=40)\n",
    "y_true = m_true*x+b_true# complete\n",
    "y_obs = y_true + np.random.normal(0,50,size=40)\n",
    "y_unc = np.ones_like(y_obs)*50"
   ]
  },
  {
   "cell_type": "code",
   "execution_count": 11,
   "metadata": {},
   "outputs": [
    {
     "data": {
      "text/plain": [
       "(40,)"
      ]
     },
     "execution_count": 11,
     "metadata": {},
     "output_type": "execute_result"
    }
   ],
   "source": [
    "y_unc.shape"
   ]
  },
  {
   "cell_type": "markdown",
   "metadata": {
    "slideshow": {
     "slide_type": "subslide"
    }
   },
   "source": [
    "**Problem 1b**\n",
    "\n",
    "Plot the observations and the corresponding uncertainties. Overplot a line showing the model from which the data were drawn."
   ]
  },
  {
   "cell_type": "code",
   "execution_count": 14,
   "metadata": {
    "slideshow": {
     "slide_type": "subslide"
    }
   },
   "outputs": [
    {
     "data": {
      "application/javascript": [
       "/* Put everything inside the global mpl namespace */\n",
       "window.mpl = {};\n",
       "\n",
       "\n",
       "mpl.get_websocket_type = function() {\n",
       "    if (typeof(WebSocket) !== 'undefined') {\n",
       "        return WebSocket;\n",
       "    } else if (typeof(MozWebSocket) !== 'undefined') {\n",
       "        return MozWebSocket;\n",
       "    } else {\n",
       "        alert('Your browser does not have WebSocket support. ' +\n",
       "              'Please try Chrome, Safari or Firefox ≥ 6. ' +\n",
       "              'Firefox 4 and 5 are also supported but you ' +\n",
       "              'have to enable WebSockets in about:config.');\n",
       "    };\n",
       "}\n",
       "\n",
       "mpl.figure = function(figure_id, websocket, ondownload, parent_element) {\n",
       "    this.id = figure_id;\n",
       "\n",
       "    this.ws = websocket;\n",
       "\n",
       "    this.supports_binary = (this.ws.binaryType != undefined);\n",
       "\n",
       "    if (!this.supports_binary) {\n",
       "        var warnings = document.getElementById(\"mpl-warnings\");\n",
       "        if (warnings) {\n",
       "            warnings.style.display = 'block';\n",
       "            warnings.textContent = (\n",
       "                \"This browser does not support binary websocket messages. \" +\n",
       "                    \"Performance may be slow.\");\n",
       "        }\n",
       "    }\n",
       "\n",
       "    this.imageObj = new Image();\n",
       "\n",
       "    this.context = undefined;\n",
       "    this.message = undefined;\n",
       "    this.canvas = undefined;\n",
       "    this.rubberband_canvas = undefined;\n",
       "    this.rubberband_context = undefined;\n",
       "    this.format_dropdown = undefined;\n",
       "\n",
       "    this.image_mode = 'full';\n",
       "\n",
       "    this.root = $('<div/>');\n",
       "    this._root_extra_style(this.root)\n",
       "    this.root.attr('style', 'display: inline-block');\n",
       "\n",
       "    $(parent_element).append(this.root);\n",
       "\n",
       "    this._init_header(this);\n",
       "    this._init_canvas(this);\n",
       "    this._init_toolbar(this);\n",
       "\n",
       "    var fig = this;\n",
       "\n",
       "    this.waiting = false;\n",
       "\n",
       "    this.ws.onopen =  function () {\n",
       "            fig.send_message(\"supports_binary\", {value: fig.supports_binary});\n",
       "            fig.send_message(\"send_image_mode\", {});\n",
       "            if (mpl.ratio != 1) {\n",
       "                fig.send_message(\"set_dpi_ratio\", {'dpi_ratio': mpl.ratio});\n",
       "            }\n",
       "            fig.send_message(\"refresh\", {});\n",
       "        }\n",
       "\n",
       "    this.imageObj.onload = function() {\n",
       "            if (fig.image_mode == 'full') {\n",
       "                // Full images could contain transparency (where diff images\n",
       "                // almost always do), so we need to clear the canvas so that\n",
       "                // there is no ghosting.\n",
       "                fig.context.clearRect(0, 0, fig.canvas.width, fig.canvas.height);\n",
       "            }\n",
       "            fig.context.drawImage(fig.imageObj, 0, 0);\n",
       "        };\n",
       "\n",
       "    this.imageObj.onunload = function() {\n",
       "        fig.ws.close();\n",
       "    }\n",
       "\n",
       "    this.ws.onmessage = this._make_on_message_function(this);\n",
       "\n",
       "    this.ondownload = ondownload;\n",
       "}\n",
       "\n",
       "mpl.figure.prototype._init_header = function() {\n",
       "    var titlebar = $(\n",
       "        '<div class=\"ui-dialog-titlebar ui-widget-header ui-corner-all ' +\n",
       "        'ui-helper-clearfix\"/>');\n",
       "    var titletext = $(\n",
       "        '<div class=\"ui-dialog-title\" style=\"width: 100%; ' +\n",
       "        'text-align: center; padding: 3px;\"/>');\n",
       "    titlebar.append(titletext)\n",
       "    this.root.append(titlebar);\n",
       "    this.header = titletext[0];\n",
       "}\n",
       "\n",
       "\n",
       "\n",
       "mpl.figure.prototype._canvas_extra_style = function(canvas_div) {\n",
       "\n",
       "}\n",
       "\n",
       "\n",
       "mpl.figure.prototype._root_extra_style = function(canvas_div) {\n",
       "\n",
       "}\n",
       "\n",
       "mpl.figure.prototype._init_canvas = function() {\n",
       "    var fig = this;\n",
       "\n",
       "    var canvas_div = $('<div/>');\n",
       "\n",
       "    canvas_div.attr('style', 'position: relative; clear: both; outline: 0');\n",
       "\n",
       "    function canvas_keyboard_event(event) {\n",
       "        return fig.key_event(event, event['data']);\n",
       "    }\n",
       "\n",
       "    canvas_div.keydown('key_press', canvas_keyboard_event);\n",
       "    canvas_div.keyup('key_release', canvas_keyboard_event);\n",
       "    this.canvas_div = canvas_div\n",
       "    this._canvas_extra_style(canvas_div)\n",
       "    this.root.append(canvas_div);\n",
       "\n",
       "    var canvas = $('<canvas/>');\n",
       "    canvas.addClass('mpl-canvas');\n",
       "    canvas.attr('style', \"left: 0; top: 0; z-index: 0; outline: 0\")\n",
       "\n",
       "    this.canvas = canvas[0];\n",
       "    this.context = canvas[0].getContext(\"2d\");\n",
       "\n",
       "    var backingStore = this.context.backingStorePixelRatio ||\n",
       "\tthis.context.webkitBackingStorePixelRatio ||\n",
       "\tthis.context.mozBackingStorePixelRatio ||\n",
       "\tthis.context.msBackingStorePixelRatio ||\n",
       "\tthis.context.oBackingStorePixelRatio ||\n",
       "\tthis.context.backingStorePixelRatio || 1;\n",
       "\n",
       "    mpl.ratio = (window.devicePixelRatio || 1) / backingStore;\n",
       "\n",
       "    var rubberband = $('<canvas/>');\n",
       "    rubberband.attr('style', \"position: absolute; left: 0; top: 0; z-index: 1;\")\n",
       "\n",
       "    var pass_mouse_events = true;\n",
       "\n",
       "    canvas_div.resizable({\n",
       "        start: function(event, ui) {\n",
       "            pass_mouse_events = false;\n",
       "        },\n",
       "        resize: function(event, ui) {\n",
       "            fig.request_resize(ui.size.width, ui.size.height);\n",
       "        },\n",
       "        stop: function(event, ui) {\n",
       "            pass_mouse_events = true;\n",
       "            fig.request_resize(ui.size.width, ui.size.height);\n",
       "        },\n",
       "    });\n",
       "\n",
       "    function mouse_event_fn(event) {\n",
       "        if (pass_mouse_events)\n",
       "            return fig.mouse_event(event, event['data']);\n",
       "    }\n",
       "\n",
       "    rubberband.mousedown('button_press', mouse_event_fn);\n",
       "    rubberband.mouseup('button_release', mouse_event_fn);\n",
       "    // Throttle sequential mouse events to 1 every 20ms.\n",
       "    rubberband.mousemove('motion_notify', mouse_event_fn);\n",
       "\n",
       "    rubberband.mouseenter('figure_enter', mouse_event_fn);\n",
       "    rubberband.mouseleave('figure_leave', mouse_event_fn);\n",
       "\n",
       "    canvas_div.on(\"wheel\", function (event) {\n",
       "        event = event.originalEvent;\n",
       "        event['data'] = 'scroll'\n",
       "        if (event.deltaY < 0) {\n",
       "            event.step = 1;\n",
       "        } else {\n",
       "            event.step = -1;\n",
       "        }\n",
       "        mouse_event_fn(event);\n",
       "    });\n",
       "\n",
       "    canvas_div.append(canvas);\n",
       "    canvas_div.append(rubberband);\n",
       "\n",
       "    this.rubberband = rubberband;\n",
       "    this.rubberband_canvas = rubberband[0];\n",
       "    this.rubberband_context = rubberband[0].getContext(\"2d\");\n",
       "    this.rubberband_context.strokeStyle = \"#000000\";\n",
       "\n",
       "    this._resize_canvas = function(width, height) {\n",
       "        // Keep the size of the canvas, canvas container, and rubber band\n",
       "        // canvas in synch.\n",
       "        canvas_div.css('width', width)\n",
       "        canvas_div.css('height', height)\n",
       "\n",
       "        canvas.attr('width', width * mpl.ratio);\n",
       "        canvas.attr('height', height * mpl.ratio);\n",
       "        canvas.attr('style', 'width: ' + width + 'px; height: ' + height + 'px;');\n",
       "\n",
       "        rubberband.attr('width', width);\n",
       "        rubberband.attr('height', height);\n",
       "    }\n",
       "\n",
       "    // Set the figure to an initial 600x600px, this will subsequently be updated\n",
       "    // upon first draw.\n",
       "    this._resize_canvas(600, 600);\n",
       "\n",
       "    // Disable right mouse context menu.\n",
       "    $(this.rubberband_canvas).bind(\"contextmenu\",function(e){\n",
       "        return false;\n",
       "    });\n",
       "\n",
       "    function set_focus () {\n",
       "        canvas.focus();\n",
       "        canvas_div.focus();\n",
       "    }\n",
       "\n",
       "    window.setTimeout(set_focus, 100);\n",
       "}\n",
       "\n",
       "mpl.figure.prototype._init_toolbar = function() {\n",
       "    var fig = this;\n",
       "\n",
       "    var nav_element = $('<div/>');\n",
       "    nav_element.attr('style', 'width: 100%');\n",
       "    this.root.append(nav_element);\n",
       "\n",
       "    // Define a callback function for later on.\n",
       "    function toolbar_event(event) {\n",
       "        return fig.toolbar_button_onclick(event['data']);\n",
       "    }\n",
       "    function toolbar_mouse_event(event) {\n",
       "        return fig.toolbar_button_onmouseover(event['data']);\n",
       "    }\n",
       "\n",
       "    for(var toolbar_ind in mpl.toolbar_items) {\n",
       "        var name = mpl.toolbar_items[toolbar_ind][0];\n",
       "        var tooltip = mpl.toolbar_items[toolbar_ind][1];\n",
       "        var image = mpl.toolbar_items[toolbar_ind][2];\n",
       "        var method_name = mpl.toolbar_items[toolbar_ind][3];\n",
       "\n",
       "        if (!name) {\n",
       "            // put a spacer in here.\n",
       "            continue;\n",
       "        }\n",
       "        var button = $('<button/>');\n",
       "        button.addClass('ui-button ui-widget ui-state-default ui-corner-all ' +\n",
       "                        'ui-button-icon-only');\n",
       "        button.attr('role', 'button');\n",
       "        button.attr('aria-disabled', 'false');\n",
       "        button.click(method_name, toolbar_event);\n",
       "        button.mouseover(tooltip, toolbar_mouse_event);\n",
       "\n",
       "        var icon_img = $('<span/>');\n",
       "        icon_img.addClass('ui-button-icon-primary ui-icon');\n",
       "        icon_img.addClass(image);\n",
       "        icon_img.addClass('ui-corner-all');\n",
       "\n",
       "        var tooltip_span = $('<span/>');\n",
       "        tooltip_span.addClass('ui-button-text');\n",
       "        tooltip_span.html(tooltip);\n",
       "\n",
       "        button.append(icon_img);\n",
       "        button.append(tooltip_span);\n",
       "\n",
       "        nav_element.append(button);\n",
       "    }\n",
       "\n",
       "    var fmt_picker_span = $('<span/>');\n",
       "\n",
       "    var fmt_picker = $('<select/>');\n",
       "    fmt_picker.addClass('mpl-toolbar-option ui-widget ui-widget-content');\n",
       "    fmt_picker_span.append(fmt_picker);\n",
       "    nav_element.append(fmt_picker_span);\n",
       "    this.format_dropdown = fmt_picker[0];\n",
       "\n",
       "    for (var ind in mpl.extensions) {\n",
       "        var fmt = mpl.extensions[ind];\n",
       "        var option = $(\n",
       "            '<option/>', {selected: fmt === mpl.default_extension}).html(fmt);\n",
       "        fmt_picker.append(option);\n",
       "    }\n",
       "\n",
       "    // Add hover states to the ui-buttons\n",
       "    $( \".ui-button\" ).hover(\n",
       "        function() { $(this).addClass(\"ui-state-hover\");},\n",
       "        function() { $(this).removeClass(\"ui-state-hover\");}\n",
       "    );\n",
       "\n",
       "    var status_bar = $('<span class=\"mpl-message\"/>');\n",
       "    nav_element.append(status_bar);\n",
       "    this.message = status_bar[0];\n",
       "}\n",
       "\n",
       "mpl.figure.prototype.request_resize = function(x_pixels, y_pixels) {\n",
       "    // Request matplotlib to resize the figure. Matplotlib will then trigger a resize in the client,\n",
       "    // which will in turn request a refresh of the image.\n",
       "    this.send_message('resize', {'width': x_pixels, 'height': y_pixels});\n",
       "}\n",
       "\n",
       "mpl.figure.prototype.send_message = function(type, properties) {\n",
       "    properties['type'] = type;\n",
       "    properties['figure_id'] = this.id;\n",
       "    this.ws.send(JSON.stringify(properties));\n",
       "}\n",
       "\n",
       "mpl.figure.prototype.send_draw_message = function() {\n",
       "    if (!this.waiting) {\n",
       "        this.waiting = true;\n",
       "        this.ws.send(JSON.stringify({type: \"draw\", figure_id: this.id}));\n",
       "    }\n",
       "}\n",
       "\n",
       "\n",
       "mpl.figure.prototype.handle_save = function(fig, msg) {\n",
       "    var format_dropdown = fig.format_dropdown;\n",
       "    var format = format_dropdown.options[format_dropdown.selectedIndex].value;\n",
       "    fig.ondownload(fig, format);\n",
       "}\n",
       "\n",
       "\n",
       "mpl.figure.prototype.handle_resize = function(fig, msg) {\n",
       "    var size = msg['size'];\n",
       "    if (size[0] != fig.canvas.width || size[1] != fig.canvas.height) {\n",
       "        fig._resize_canvas(size[0], size[1]);\n",
       "        fig.send_message(\"refresh\", {});\n",
       "    };\n",
       "}\n",
       "\n",
       "mpl.figure.prototype.handle_rubberband = function(fig, msg) {\n",
       "    var x0 = msg['x0'] / mpl.ratio;\n",
       "    var y0 = (fig.canvas.height - msg['y0']) / mpl.ratio;\n",
       "    var x1 = msg['x1'] / mpl.ratio;\n",
       "    var y1 = (fig.canvas.height - msg['y1']) / mpl.ratio;\n",
       "    x0 = Math.floor(x0) + 0.5;\n",
       "    y0 = Math.floor(y0) + 0.5;\n",
       "    x1 = Math.floor(x1) + 0.5;\n",
       "    y1 = Math.floor(y1) + 0.5;\n",
       "    var min_x = Math.min(x0, x1);\n",
       "    var min_y = Math.min(y0, y1);\n",
       "    var width = Math.abs(x1 - x0);\n",
       "    var height = Math.abs(y1 - y0);\n",
       "\n",
       "    fig.rubberband_context.clearRect(\n",
       "        0, 0, fig.canvas.width / mpl.ratio, fig.canvas.height / mpl.ratio);\n",
       "\n",
       "    fig.rubberband_context.strokeRect(min_x, min_y, width, height);\n",
       "}\n",
       "\n",
       "mpl.figure.prototype.handle_figure_label = function(fig, msg) {\n",
       "    // Updates the figure title.\n",
       "    fig.header.textContent = msg['label'];\n",
       "}\n",
       "\n",
       "mpl.figure.prototype.handle_cursor = function(fig, msg) {\n",
       "    var cursor = msg['cursor'];\n",
       "    switch(cursor)\n",
       "    {\n",
       "    case 0:\n",
       "        cursor = 'pointer';\n",
       "        break;\n",
       "    case 1:\n",
       "        cursor = 'default';\n",
       "        break;\n",
       "    case 2:\n",
       "        cursor = 'crosshair';\n",
       "        break;\n",
       "    case 3:\n",
       "        cursor = 'move';\n",
       "        break;\n",
       "    }\n",
       "    fig.rubberband_canvas.style.cursor = cursor;\n",
       "}\n",
       "\n",
       "mpl.figure.prototype.handle_message = function(fig, msg) {\n",
       "    fig.message.textContent = msg['message'];\n",
       "}\n",
       "\n",
       "mpl.figure.prototype.handle_draw = function(fig, msg) {\n",
       "    // Request the server to send over a new figure.\n",
       "    fig.send_draw_message();\n",
       "}\n",
       "\n",
       "mpl.figure.prototype.handle_image_mode = function(fig, msg) {\n",
       "    fig.image_mode = msg['mode'];\n",
       "}\n",
       "\n",
       "mpl.figure.prototype.updated_canvas_event = function() {\n",
       "    // Called whenever the canvas gets updated.\n",
       "    this.send_message(\"ack\", {});\n",
       "}\n",
       "\n",
       "// A function to construct a web socket function for onmessage handling.\n",
       "// Called in the figure constructor.\n",
       "mpl.figure.prototype._make_on_message_function = function(fig) {\n",
       "    return function socket_on_message(evt) {\n",
       "        if (evt.data instanceof Blob) {\n",
       "            /* FIXME: We get \"Resource interpreted as Image but\n",
       "             * transferred with MIME type text/plain:\" errors on\n",
       "             * Chrome.  But how to set the MIME type?  It doesn't seem\n",
       "             * to be part of the websocket stream */\n",
       "            evt.data.type = \"image/png\";\n",
       "\n",
       "            /* Free the memory for the previous frames */\n",
       "            if (fig.imageObj.src) {\n",
       "                (window.URL || window.webkitURL).revokeObjectURL(\n",
       "                    fig.imageObj.src);\n",
       "            }\n",
       "\n",
       "            fig.imageObj.src = (window.URL || window.webkitURL).createObjectURL(\n",
       "                evt.data);\n",
       "            fig.updated_canvas_event();\n",
       "            fig.waiting = false;\n",
       "            return;\n",
       "        }\n",
       "        else if (typeof evt.data === 'string' && evt.data.slice(0, 21) == \"data:image/png;base64\") {\n",
       "            fig.imageObj.src = evt.data;\n",
       "            fig.updated_canvas_event();\n",
       "            fig.waiting = false;\n",
       "            return;\n",
       "        }\n",
       "\n",
       "        var msg = JSON.parse(evt.data);\n",
       "        var msg_type = msg['type'];\n",
       "\n",
       "        // Call the  \"handle_{type}\" callback, which takes\n",
       "        // the figure and JSON message as its only arguments.\n",
       "        try {\n",
       "            var callback = fig[\"handle_\" + msg_type];\n",
       "        } catch (e) {\n",
       "            console.log(\"No handler for the '\" + msg_type + \"' message type: \", msg);\n",
       "            return;\n",
       "        }\n",
       "\n",
       "        if (callback) {\n",
       "            try {\n",
       "                // console.log(\"Handling '\" + msg_type + \"' message: \", msg);\n",
       "                callback(fig, msg);\n",
       "            } catch (e) {\n",
       "                console.log(\"Exception inside the 'handler_\" + msg_type + \"' callback:\", e, e.stack, msg);\n",
       "            }\n",
       "        }\n",
       "    };\n",
       "}\n",
       "\n",
       "// from http://stackoverflow.com/questions/1114465/getting-mouse-location-in-canvas\n",
       "mpl.findpos = function(e) {\n",
       "    //this section is from http://www.quirksmode.org/js/events_properties.html\n",
       "    var targ;\n",
       "    if (!e)\n",
       "        e = window.event;\n",
       "    if (e.target)\n",
       "        targ = e.target;\n",
       "    else if (e.srcElement)\n",
       "        targ = e.srcElement;\n",
       "    if (targ.nodeType == 3) // defeat Safari bug\n",
       "        targ = targ.parentNode;\n",
       "\n",
       "    // jQuery normalizes the pageX and pageY\n",
       "    // pageX,Y are the mouse positions relative to the document\n",
       "    // offset() returns the position of the element relative to the document\n",
       "    var x = e.pageX - $(targ).offset().left;\n",
       "    var y = e.pageY - $(targ).offset().top;\n",
       "\n",
       "    return {\"x\": x, \"y\": y};\n",
       "};\n",
       "\n",
       "/*\n",
       " * return a copy of an object with only non-object keys\n",
       " * we need this to avoid circular references\n",
       " * http://stackoverflow.com/a/24161582/3208463\n",
       " */\n",
       "function simpleKeys (original) {\n",
       "  return Object.keys(original).reduce(function (obj, key) {\n",
       "    if (typeof original[key] !== 'object')\n",
       "        obj[key] = original[key]\n",
       "    return obj;\n",
       "  }, {});\n",
       "}\n",
       "\n",
       "mpl.figure.prototype.mouse_event = function(event, name) {\n",
       "    var canvas_pos = mpl.findpos(event)\n",
       "\n",
       "    if (name === 'button_press')\n",
       "    {\n",
       "        this.canvas.focus();\n",
       "        this.canvas_div.focus();\n",
       "    }\n",
       "\n",
       "    var x = canvas_pos.x * mpl.ratio;\n",
       "    var y = canvas_pos.y * mpl.ratio;\n",
       "\n",
       "    this.send_message(name, {x: x, y: y, button: event.button,\n",
       "                             step: event.step,\n",
       "                             guiEvent: simpleKeys(event)});\n",
       "\n",
       "    /* This prevents the web browser from automatically changing to\n",
       "     * the text insertion cursor when the button is pressed.  We want\n",
       "     * to control all of the cursor setting manually through the\n",
       "     * 'cursor' event from matplotlib */\n",
       "    event.preventDefault();\n",
       "    return false;\n",
       "}\n",
       "\n",
       "mpl.figure.prototype._key_event_extra = function(event, name) {\n",
       "    // Handle any extra behaviour associated with a key event\n",
       "}\n",
       "\n",
       "mpl.figure.prototype.key_event = function(event, name) {\n",
       "\n",
       "    // Prevent repeat events\n",
       "    if (name == 'key_press')\n",
       "    {\n",
       "        if (event.which === this._key)\n",
       "            return;\n",
       "        else\n",
       "            this._key = event.which;\n",
       "    }\n",
       "    if (name == 'key_release')\n",
       "        this._key = null;\n",
       "\n",
       "    var value = '';\n",
       "    if (event.ctrlKey && event.which != 17)\n",
       "        value += \"ctrl+\";\n",
       "    if (event.altKey && event.which != 18)\n",
       "        value += \"alt+\";\n",
       "    if (event.shiftKey && event.which != 16)\n",
       "        value += \"shift+\";\n",
       "\n",
       "    value += 'k';\n",
       "    value += event.which.toString();\n",
       "\n",
       "    this._key_event_extra(event, name);\n",
       "\n",
       "    this.send_message(name, {key: value,\n",
       "                             guiEvent: simpleKeys(event)});\n",
       "    return false;\n",
       "}\n",
       "\n",
       "mpl.figure.prototype.toolbar_button_onclick = function(name) {\n",
       "    if (name == 'download') {\n",
       "        this.handle_save(this, null);\n",
       "    } else {\n",
       "        this.send_message(\"toolbar_button\", {name: name});\n",
       "    }\n",
       "};\n",
       "\n",
       "mpl.figure.prototype.toolbar_button_onmouseover = function(tooltip) {\n",
       "    this.message.textContent = tooltip;\n",
       "};\n",
       "mpl.toolbar_items = [[\"Home\", \"Reset original view\", \"fa fa-home icon-home\", \"home\"], [\"Back\", \"Back to previous view\", \"fa fa-arrow-left icon-arrow-left\", \"back\"], [\"Forward\", \"Forward to next view\", \"fa fa-arrow-right icon-arrow-right\", \"forward\"], [\"\", \"\", \"\", \"\"], [\"Pan\", \"Pan axes with left mouse, zoom with right\", \"fa fa-arrows icon-move\", \"pan\"], [\"Zoom\", \"Zoom to rectangle\", \"fa fa-square-o icon-check-empty\", \"zoom\"], [\"\", \"\", \"\", \"\"], [\"Download\", \"Download plot\", \"fa fa-floppy-o icon-save\", \"download\"]];\n",
       "\n",
       "mpl.extensions = [\"eps\", \"pdf\", \"png\", \"ps\", \"raw\", \"svg\"];\n",
       "\n",
       "mpl.default_extension = \"png\";var comm_websocket_adapter = function(comm) {\n",
       "    // Create a \"websocket\"-like object which calls the given IPython comm\n",
       "    // object with the appropriate methods. Currently this is a non binary\n",
       "    // socket, so there is still some room for performance tuning.\n",
       "    var ws = {};\n",
       "\n",
       "    ws.close = function() {\n",
       "        comm.close()\n",
       "    };\n",
       "    ws.send = function(m) {\n",
       "        //console.log('sending', m);\n",
       "        comm.send(m);\n",
       "    };\n",
       "    // Register the callback with on_msg.\n",
       "    comm.on_msg(function(msg) {\n",
       "        //console.log('receiving', msg['content']['data'], msg);\n",
       "        // Pass the mpl event to the overridden (by mpl) onmessage function.\n",
       "        ws.onmessage(msg['content']['data'])\n",
       "    });\n",
       "    return ws;\n",
       "}\n",
       "\n",
       "mpl.mpl_figure_comm = function(comm, msg) {\n",
       "    // This is the function which gets called when the mpl process\n",
       "    // starts-up an IPython Comm through the \"matplotlib\" channel.\n",
       "\n",
       "    var id = msg.content.data.id;\n",
       "    // Get hold of the div created by the display call when the Comm\n",
       "    // socket was opened in Python.\n",
       "    var element = $(\"#\" + id);\n",
       "    var ws_proxy = comm_websocket_adapter(comm)\n",
       "\n",
       "    function ondownload(figure, format) {\n",
       "        window.open(figure.imageObj.src);\n",
       "    }\n",
       "\n",
       "    var fig = new mpl.figure(id, ws_proxy,\n",
       "                           ondownload,\n",
       "                           element.get(0));\n",
       "\n",
       "    // Call onopen now - mpl needs it, as it is assuming we've passed it a real\n",
       "    // web socket which is closed, not our websocket->open comm proxy.\n",
       "    ws_proxy.onopen();\n",
       "\n",
       "    fig.parent_element = element.get(0);\n",
       "    fig.cell_info = mpl.find_output_cell(\"<div id='\" + id + \"'></div>\");\n",
       "    if (!fig.cell_info) {\n",
       "        console.error(\"Failed to find cell for figure\", id, fig);\n",
       "        return;\n",
       "    }\n",
       "\n",
       "    var output_index = fig.cell_info[2]\n",
       "    var cell = fig.cell_info[0];\n",
       "\n",
       "};\n",
       "\n",
       "mpl.figure.prototype.handle_close = function(fig, msg) {\n",
       "    var width = fig.canvas.width/mpl.ratio\n",
       "    fig.root.unbind('remove')\n",
       "\n",
       "    // Update the output cell to use the data from the current canvas.\n",
       "    fig.push_to_output();\n",
       "    var dataURL = fig.canvas.toDataURL();\n",
       "    // Re-enable the keyboard manager in IPython - without this line, in FF,\n",
       "    // the notebook keyboard shortcuts fail.\n",
       "    IPython.keyboard_manager.enable()\n",
       "    $(fig.parent_element).html('<img src=\"' + dataURL + '\" width=\"' + width + '\">');\n",
       "    fig.close_ws(fig, msg);\n",
       "}\n",
       "\n",
       "mpl.figure.prototype.close_ws = function(fig, msg){\n",
       "    fig.send_message('closing', msg);\n",
       "    // fig.ws.close()\n",
       "}\n",
       "\n",
       "mpl.figure.prototype.push_to_output = function(remove_interactive) {\n",
       "    // Turn the data on the canvas into data in the output cell.\n",
       "    var width = this.canvas.width/mpl.ratio\n",
       "    var dataURL = this.canvas.toDataURL();\n",
       "    this.cell_info[1]['text/html'] = '<img src=\"' + dataURL + '\" width=\"' + width + '\">';\n",
       "}\n",
       "\n",
       "mpl.figure.prototype.updated_canvas_event = function() {\n",
       "    // Tell IPython that the notebook contents must change.\n",
       "    IPython.notebook.set_dirty(true);\n",
       "    this.send_message(\"ack\", {});\n",
       "    var fig = this;\n",
       "    // Wait a second, then push the new image to the DOM so\n",
       "    // that it is saved nicely (might be nice to debounce this).\n",
       "    setTimeout(function () { fig.push_to_output() }, 1000);\n",
       "}\n",
       "\n",
       "mpl.figure.prototype._init_toolbar = function() {\n",
       "    var fig = this;\n",
       "\n",
       "    var nav_element = $('<div/>');\n",
       "    nav_element.attr('style', 'width: 100%');\n",
       "    this.root.append(nav_element);\n",
       "\n",
       "    // Define a callback function for later on.\n",
       "    function toolbar_event(event) {\n",
       "        return fig.toolbar_button_onclick(event['data']);\n",
       "    }\n",
       "    function toolbar_mouse_event(event) {\n",
       "        return fig.toolbar_button_onmouseover(event['data']);\n",
       "    }\n",
       "\n",
       "    for(var toolbar_ind in mpl.toolbar_items){\n",
       "        var name = mpl.toolbar_items[toolbar_ind][0];\n",
       "        var tooltip = mpl.toolbar_items[toolbar_ind][1];\n",
       "        var image = mpl.toolbar_items[toolbar_ind][2];\n",
       "        var method_name = mpl.toolbar_items[toolbar_ind][3];\n",
       "\n",
       "        if (!name) { continue; };\n",
       "\n",
       "        var button = $('<button class=\"btn btn-default\" href=\"#\" title=\"' + name + '\"><i class=\"fa ' + image + ' fa-lg\"></i></button>');\n",
       "        button.click(method_name, toolbar_event);\n",
       "        button.mouseover(tooltip, toolbar_mouse_event);\n",
       "        nav_element.append(button);\n",
       "    }\n",
       "\n",
       "    // Add the status bar.\n",
       "    var status_bar = $('<span class=\"mpl-message\" style=\"text-align:right; float: right;\"/>');\n",
       "    nav_element.append(status_bar);\n",
       "    this.message = status_bar[0];\n",
       "\n",
       "    // Add the close button to the window.\n",
       "    var buttongrp = $('<div class=\"btn-group inline pull-right\"></div>');\n",
       "    var button = $('<button class=\"btn btn-mini btn-primary\" href=\"#\" title=\"Stop Interaction\"><i class=\"fa fa-power-off icon-remove icon-large\"></i></button>');\n",
       "    button.click(function (evt) { fig.handle_close(fig, {}); } );\n",
       "    button.mouseover('Stop Interaction', toolbar_mouse_event);\n",
       "    buttongrp.append(button);\n",
       "    var titlebar = this.root.find($('.ui-dialog-titlebar'));\n",
       "    titlebar.prepend(buttongrp);\n",
       "}\n",
       "\n",
       "mpl.figure.prototype._root_extra_style = function(el){\n",
       "    var fig = this\n",
       "    el.on(\"remove\", function(){\n",
       "\tfig.close_ws(fig, {});\n",
       "    });\n",
       "}\n",
       "\n",
       "mpl.figure.prototype._canvas_extra_style = function(el){\n",
       "    // this is important to make the div 'focusable\n",
       "    el.attr('tabindex', 0)\n",
       "    // reach out to IPython and tell the keyboard manager to turn it's self\n",
       "    // off when our div gets focus\n",
       "\n",
       "    // location in version 3\n",
       "    if (IPython.notebook.keyboard_manager) {\n",
       "        IPython.notebook.keyboard_manager.register_events(el);\n",
       "    }\n",
       "    else {\n",
       "        // location in version 2\n",
       "        IPython.keyboard_manager.register_events(el);\n",
       "    }\n",
       "\n",
       "}\n",
       "\n",
       "mpl.figure.prototype._key_event_extra = function(event, name) {\n",
       "    var manager = IPython.notebook.keyboard_manager;\n",
       "    if (!manager)\n",
       "        manager = IPython.keyboard_manager;\n",
       "\n",
       "    // Check for shift+enter\n",
       "    if (event.shiftKey && event.which == 13) {\n",
       "        this.canvas_div.blur();\n",
       "        event.shiftKey = false;\n",
       "        // Send a \"J\" for go to next cell\n",
       "        event.which = 74;\n",
       "        event.keyCode = 74;\n",
       "        manager.command_mode();\n",
       "        manager.handle_keydown(event);\n",
       "    }\n",
       "}\n",
       "\n",
       "mpl.figure.prototype.handle_save = function(fig, msg) {\n",
       "    fig.ondownload(fig, null);\n",
       "}\n",
       "\n",
       "\n",
       "mpl.find_output_cell = function(html_output) {\n",
       "    // Return the cell and output element which can be found *uniquely* in the notebook.\n",
       "    // Note - this is a bit hacky, but it is done because the \"notebook_saving.Notebook\"\n",
       "    // IPython event is triggered only after the cells have been serialised, which for\n",
       "    // our purposes (turning an active figure into a static one), is too late.\n",
       "    var cells = IPython.notebook.get_cells();\n",
       "    var ncells = cells.length;\n",
       "    for (var i=0; i<ncells; i++) {\n",
       "        var cell = cells[i];\n",
       "        if (cell.cell_type === 'code'){\n",
       "            for (var j=0; j<cell.output_area.outputs.length; j++) {\n",
       "                var data = cell.output_area.outputs[j];\n",
       "                if (data.data) {\n",
       "                    // IPython >= 3 moved mimebundle to data attribute of output\n",
       "                    data = data.data;\n",
       "                }\n",
       "                if (data['text/html'] == html_output) {\n",
       "                    return [cell, data, j];\n",
       "                }\n",
       "            }\n",
       "        }\n",
       "    }\n",
       "}\n",
       "\n",
       "// Register the function which deals with the matplotlib target/channel.\n",
       "// The kernel may be null if the page has been refreshed.\n",
       "if (IPython.notebook.kernel != null) {\n",
       "    IPython.notebook.kernel.comm_manager.register_target('matplotlib', mpl.mpl_figure_comm);\n",
       "}\n"
      ],
      "text/plain": [
       "<IPython.core.display.Javascript object>"
      ]
     },
     "metadata": {},
     "output_type": "display_data"
    },
    {
     "data": {
      "text/html": [
       "<img src=\"data:image/png;base64,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\" width=\"640\">"
      ],
      "text/plain": [
       "<IPython.core.display.HTML object>"
      ]
     },
     "metadata": {},
     "output_type": "display_data"
    }
   ],
   "source": [
    "fig, ax = plt.subplots()\n",
    "\n",
    "ax.errorbar( x,y_obs,y_unc, fmt = '.')\n",
    "ax.plot([0,100], b_true + m_true*np.array([0,100]))\n",
    "ax.set_xlabel('x')\n",
    "ax.set_ylabel('y')\n",
    "fig.tight_layout()"
   ]
  },
  {
   "cell_type": "markdown",
   "metadata": {
    "slideshow": {
     "slide_type": "slide"
    }
   },
   "source": [
    "**Problem 1c**\n",
    "\n",
    "Create a function `get_model_predictions` that calculates the expected value of $\\mathbf{y}$ given input parameters `theta` and positions $\\mathbf{x}$.\n",
    "\n",
    "*Hint* - store the model parameters in a tuple `theta` = (m, b). This will make life easier later."
   ]
  },
  {
   "cell_type": "code",
   "execution_count": 15,
   "metadata": {
    "slideshow": {
     "slide_type": "subslide"
    }
   },
   "outputs": [],
   "source": [
    "def get_model_predictions(theta, x):\n",
    "    '''\n",
    "    Calculate the model at any position x\n",
    "    \n",
    "    Parameters\n",
    "    ----------\n",
    "    theta : tuple\n",
    "        Model parameters\n",
    "    \n",
    "    x : arr-like, shape (n_samples)\n",
    "        Array of positions where y is measured\n",
    "    \n",
    "    Returns\n",
    "    -------\n",
    "    model_preds : arr-like, shape (n_samples)\n",
    "        Array of model values\n",
    "    '''\n",
    "    m, b = theta\n",
    "    model_preds = m*x+b\n",
    "    \n",
    "    return model_preds"
   ]
  },
  {
   "cell_type": "markdown",
   "metadata": {
    "slideshow": {
     "slide_type": "slide"
    }
   },
   "source": [
    "## Problem 2) The Posterior\n",
    "\n",
    "In order to approximate the posterior we need to be able to calculate it at any point within the multidimensional parameter space. "
   ]
  },
  {
   "cell_type": "markdown",
   "metadata": {
    "slideshow": {
     "slide_type": "subslide"
    }
   },
   "source": [
    "Assuming gaussian distributed scatter in the observations, we can describe the probability of any individual observation as a function of the model parameters:\n",
    "\n",
    "$$p(y_i \\mid m, b, x_i, \\sigma_i) = \\frac{1}{\\sqrt{2\\pi\\sigma_{y_i}^2}}\\exp{- \\frac{(y_i - m\\,x_i - b)^2}{2\\sigma_{y_i}^2}},$$\n",
    "\n",
    "where $y_i$ is the $i^\\mathrm{th}$ observation, $x_i$ is the corresponding indpendent position at which $y_i$ is measured, $\\sigma_{y_i}$ is the uncertainty on $y_i$ (constant in this case, but that doesn't have to be the case), and $m$ and $b$ are the slope and intercept for  the line."
   ]
  },
  {
   "cell_type": "markdown",
   "metadata": {
    "slideshow": {
     "slide_type": "subslide"
    }
   },
   "source": [
    "Assuming the observations are independent, then the probability of *all* the observations is the product of the individual probabilities (note – this is the likelihood):\n",
    "\n",
    "$$\\mathcal{L} = \\prod_i p(y_i \\mid m, b, x_i, \\sigma_i) = \\prod_i \\frac{1}{\\sqrt{2\\pi\\sigma_{y_i}^2}}\\exp{- \\frac{(y_i - m\\,x_i - b)^2}{2\\sigma_{y_i}^2}}.$$"
   ]
  },
  {
   "cell_type": "markdown",
   "metadata": {
    "slideshow": {
     "slide_type": "subslide"
    }
   },
   "source": [
    "This product produces really small numbers (individual observations have typical probabilities  < 0.3), which can become numerically unstable, especially for a poor choice of model parameters. \n",
    "\n",
    "A trick to alleviate this issue is to work with the $\\log \\mathcal{L}$, which using a logarithmic identity allows us to trade a product for a sum (computationally much easier!):\n",
    "\n",
    "$$\\log \\mathcal{L} = \\mathcal{K} - \\sum_i \\frac{(y_i - m\\,x_i - b)^2}{2\\sigma_{y_i}^2},$$\n",
    "\n",
    "where $\\mathcal{K}$ is a constant equal to $-\\frac{n}{2}\\log{2\\pi} - \\sum_i \\log{\\sigma_{y_i}}$."
   ]
  },
  {
   "cell_type": "markdown",
   "metadata": {
    "slideshow": {
     "slide_type": "subslide"
    }
   },
   "source": [
    "Mathematically, maximizing the likelihood and the log likelihood are identical, and we will leverage this for the remainder of the problem."
   ]
  },
  {
   "cell_type": "markdown",
   "metadata": {
    "slideshow": {
     "slide_type": "slide"
    }
   },
   "source": [
    "**Problem 2a**\n",
    "\n",
    "Write a function `lnlikelihood` to calculate the log likelihood given input parameters `theta`, `y`, `x`, and `y_unc`.\n",
    "\n",
    "*Hint 1* – the constant $\\mathcal{K}$ is the same for any point in the parameter space. Thus it can be ignored as we only care about *relative* differences in the likelihood.\n",
    "\n",
    "*Hint 2* – store the model parameters in a single tuple `theta` = (m, b). This will make life easier later."
   ]
  },
  {
   "cell_type": "code",
   "execution_count": 32,
   "metadata": {
    "slideshow": {
     "slide_type": "subslide"
    }
   },
   "outputs": [],
   "source": [
    "def lnlikelihood(theta, y, x, y_unc):\n",
    "    '''\n",
    "    Calculate the log likelihood for a model assuming Gaussian uncertainties\n",
    "    \n",
    "    Parameters\n",
    "    ----------\n",
    "    theta : tuple\n",
    "        Model parameters\n",
    "    \n",
    "    y : arr-like, shape (n_samples)\n",
    "        Array of observational measurements\n",
    "    \n",
    "    x : arr-like, shape (n_samples)\n",
    "        Array of positions where y is measured\n",
    "    \n",
    "    y_unc : arr-like, shape (n_samples)\n",
    "        Array of uncertainties on y\n",
    "        \n",
    "    Returns\n",
    "    -------\n",
    "    lnl : float\n",
    "        The log-likelihood of the observations given the model parameters\n",
    "    '''\n",
    "    model_preds = get_model_predictions(theta, x)\n",
    "    \n",
    "    lnl = -0.5*((y-model_preds)**2/(y_unc**2)).sum()\n",
    "    \n",
    "    return lnl"
   ]
  },
  {
   "cell_type": "code",
   "execution_count": 42,
   "metadata": {},
   "outputs": [
    {
     "data": {
      "text/plain": [
       "array([ 84.9352451 , 186.75343611,  57.65453853,  51.50110557,\n",
       "        96.98815989,  95.44155853,  71.03029531, 104.23844088,\n",
       "        86.14088892, 195.80431743,  90.50630597,  81.42974175,\n",
       "        55.37225318, 175.04718534, 142.96787356, 188.49714413,\n",
       "        96.30333686,  53.24478318, 175.00227669,  80.51435861,\n",
       "       163.16660803,  71.24931327,  68.9121648 ,  56.56765012,\n",
       "       170.66359348,  62.11646689, 188.86559922, 143.07733331,\n",
       "       154.69380277, 139.92626697, 189.81318557, 191.8326447 ,\n",
       "       126.75435742, 108.8476048 , 135.19774846,  50.23963348,\n",
       "       178.08831703, 139.59783229, 161.24920347, 152.86756425])"
      ]
     },
     "execution_count": 42,
     "metadata": {},
     "output_type": "execute_result"
    }
   ],
   "source": [
    "theta = (1.5,50)\n",
    "(y_obs-get_model_predictions(theta,x))**2/(y_unc**2)"
   ]
  },
  {
   "cell_type": "markdown",
   "metadata": {
    "slideshow": {
     "slide_type": "slide"
    }
   },
   "source": [
    "**Problem 2b**\n",
    "\n",
    "Confirm your function works by estimating the log likelihood for $m = 1.5$ and $b = 50$.\n",
    "\n",
    "Is the log likelihood higher or lower if you use the true model parameters (see **1a**)? \n",
    "\n",
    "Does this make sense?"
   ]
  },
  {
   "cell_type": "code",
   "execution_count": 33,
   "metadata": {
    "slideshow": {
     "slide_type": "subslide"
    }
   },
   "outputs": [
    {
     "name": "stdout",
     "output_type": "stream",
     "text": [
      "ln L for m=1.5 and b=50 is: -20.7939\n",
      "ln L for m=2.3 and b=15 is: -14.9359\n",
      "ln L for m=2.3 and b=40 is: -18.8590\n"
     ]
    }
   ],
   "source": [
    "theta = (1.5,50)\n",
    "print('ln L for m=1.5 and b=50 is: {:.4f}'.format(lnlikelihood( theta, y_obs, x, y_unc)))# complete\n",
    "theta = (2.3,15)\n",
    "print('ln L for m=2.3 and b=15 is: {:.4f}'.format(lnlikelihood( theta, y_obs, x, y_unc)))# complete\n",
    "theta = (2.3,40)\n",
    "print('ln L for m=2.3 and b=40 is: {:.4f}'.format(lnlikelihood( theta, y_obs, x, y_unc)))# complete"
   ]
  },
  {
   "cell_type": "markdown",
   "metadata": {
    "slideshow": {
     "slide_type": "subslide"
    }
   },
   "source": [
    "*write your answer here*\n"
   ]
  },
  {
   "cell_type": "markdown",
   "metadata": {
    "slideshow": {
     "slide_type": "slide"
    }
   },
   "source": [
    "The posterior requires an estimate of not just the likelihood, but also the prior. \n",
    "\n",
    "For this problem, how in the world do we choose the prior? \n",
    "\n",
    "(In practice, this can be very complicated and we will discuss this in more detail on Wednesday and Friday)"
   ]
  },
  {
   "cell_type": "markdown",
   "metadata": {
    "slideshow": {
     "slide_type": "subslide"
    }
   },
   "source": [
    "When you have little to no knowledge of the actual model parameters, it is often \"safe\" to assume a wide and flat prior (sometimes referred to as an uniformative prior). A wide and flat prior essentially says that any value within the bounds of the prior is equally likely, while values outside the bounds are unacceptable. "
   ]
  },
  {
   "cell_type": "markdown",
   "metadata": {
    "slideshow": {
     "slide_type": "subslide"
    }
   },
   "source": [
    "While we know the true answer, let's pretend that we don't. From the data (technically, using the data to estimate the prior is cheating, as we'll discuss on Friday) we can see that the slope is definitely positive, and also definitely less than 300 (the largest y value in the data set). Thus, we will set a uniform prior on $m$ from 0 to 300:\n",
    "\n",
    "$$P(m) \\sim \\mathcal{U}(0,300).$$\n",
    "\n",
    "From similar arguments the intercept is likely somewhere between -100 and 100:\n",
    "\n",
    "$$P(b) \\sim \\mathcal{U}(-100,100).$$\n"
   ]
  },
  {
   "cell_type": "markdown",
   "metadata": {
    "slideshow": {
     "slide_type": "slide"
    }
   },
   "source": [
    "**Problem 2c**\n",
    "\n",
    "Write a function `lnprior` to calculate the log of the prior from an input tuple of the model parameters `theta`.\n",
    "\n",
    "*Hint* - while the $\\log{0}$ is undefined, have the function return `-np.inf` for values outside the bounds of the prior."
   ]
  },
  {
   "cell_type": "code",
   "execution_count": 34,
   "metadata": {
    "slideshow": {
     "slide_type": "subslide"
    }
   },
   "outputs": [],
   "source": [
    "def lnprior(theta):\n",
    "    '''\n",
    "    Calculate the log of the prior for the model parameters\n",
    "    \n",
    "    Parameters\n",
    "    ----------\n",
    "    theta : tuple\n",
    "        Model parameters\n",
    "            \n",
    "    Returns\n",
    "    -------\n",
    "    lnp : float\n",
    "        The log-prior of the model parameters\n",
    "    '''\n",
    "    m, b = theta\n",
    "    if 0 <= m <= 300 and -100 <= b <= 100:\n",
    "        lnp = np.log(1/300) + np.log(1/200) # assumes P(m) and P(y) are completely independent\n",
    "    else:\n",
    "        lnp = -np.inf\n",
    "    \n",
    "    return lnp"
   ]
  },
  {
   "cell_type": "markdown",
   "metadata": {
    "slideshow": {
     "slide_type": "slide"
    }
   },
   "source": [
    "**Problem 2d**\n",
    "\n",
    "Calculate the prior for $(m, b) = (1, 0)$, $(2.3, 15)$, $(3, -150)$, and $(-1, 90)$.\n",
    "\n",
    "Do your answers make sense?"
   ]
  },
  {
   "cell_type": "code",
   "execution_count": 35,
   "metadata": {
    "slideshow": {
     "slide_type": "subslide"
    }
   },
   "outputs": [
    {
     "name": "stdout",
     "output_type": "stream",
     "text": [
      "ln P for m=1.0 and b=0 is: -11.0021\n",
      "ln P for m=2.3 and b=15 is: -11.0021\n",
      "ln P for m=3 and b=-150 is: -inf\n",
      "ln P for m=-1 and b=90 is: -inf\n"
     ]
    }
   ],
   "source": [
    "theta = (1,0)\n",
    "print('ln P for m=1.0 and b=0 is: {:.4f}'.format(lnprior(theta)))# complete\n",
    "theta = (2.3,15)\n",
    "print('ln P for m=2.3 and b=15 is: {:.4f}'.format(lnprior(theta)))# complete\n",
    "theta = (3,-150)\n",
    "print('ln P for m=3 and b=-150 is: {:.4f}'.format(lnprior(theta)))# complete\n",
    "theta = (-1,90)\n",
    "print('ln P for m=-1 and b=90 is: {:.4f}'.format(lnprior(theta)))# complete"
   ]
  },
  {
   "cell_type": "markdown",
   "metadata": {
    "slideshow": {
     "slide_type": "subslide"
    }
   },
   "source": [
    "*write your answer here*\n"
   ]
  },
  {
   "cell_type": "markdown",
   "metadata": {
    "slideshow": {
     "slide_type": "slide"
    }
   },
   "source": [
    "**Problem 2e**\n",
    "\n",
    "Write a function `lnposterior` to calculate the log of the posterior.\n",
    "\n",
    "*Hint* - this is straightforward using functions you have already written."
   ]
  },
  {
   "cell_type": "code",
   "execution_count": 36,
   "metadata": {
    "slideshow": {
     "slide_type": "subslide"
    }
   },
   "outputs": [],
   "source": [
    "def lnposterior(theta, y, x, y_unc):\n",
    "    '''\n",
    "    Calculate the log posterior\n",
    "    \n",
    "    Parameters\n",
    "    ----------\n",
    "    theta : tuple\n",
    "        Model parameters\n",
    "    \n",
    "    y : arr-like, shape (n_samples)\n",
    "        Array of observational measurements\n",
    "    \n",
    "    x : arr-like, shape (n_samples)\n",
    "        Array of positions where y is measured\n",
    "    \n",
    "    y_unc : arr-like, shape (n_samples)\n",
    "        Array of uncertainties on y\n",
    "        \n",
    "    Returns\n",
    "    -------\n",
    "    lnpost : float\n",
    "        The log-posterior from the observations and model parameters\n",
    "    '''\n",
    "    lnp = lnprior(theta)\n",
    "    if not np.isfinite(lnp):\n",
    "        return -np.inf\n",
    "    lnl = lnlikelihood(theta, y, x, y_unc)\n",
    "    lnpost = lnl +lnp\n",
    "        \n",
    "    return lnpost"
   ]
  },
  {
   "cell_type": "markdown",
   "metadata": {
    "slideshow": {
     "slide_type": "slide"
    }
   },
   "source": [
    "**Problem 2f**\n",
    "\n",
    "What is the log posterior for $m = 1.5$ and $b = 50$?\n",
    "\n",
    "What is the log posterior for $m = 2.3$ and $b = 15$?\n",
    "\n",
    "What is the log posterior for $m = 1.5$ and $b = 200$?\n",
    "\n",
    "Does this make sense?"
   ]
  },
  {
   "cell_type": "code",
   "execution_count": 37,
   "metadata": {
    "slideshow": {
     "slide_type": "subslide"
    }
   },
   "outputs": [
    {
     "name": "stdout",
     "output_type": "stream",
     "text": [
      "ln posterior for m=1.5 and b=50 is: -31.7960\n",
      "ln posterior for m=2.3 and b=15 is: -25.9380\n",
      "ln posterior for m=1.5 and b=200 is: -inf\n"
     ]
    }
   ],
   "source": [
    "theta = (1.5,50)\n",
    "print('ln posterior for m=1.5 and b=50 is: {:.4f}'.format(lnposterior(theta, y_obs, x, y_unc))) # complete\n",
    "theta = (2.3,15)\n",
    "print('ln posterior for m=2.3 and b=15 is: {:.4f}'.format(lnposterior(theta, y_obs, x, y_unc))) # complete\n",
    "theta = (1.5,200)\n",
    "print('ln posterior for m=1.5 and b=200 is: {:.4f}'.format(lnposterior(theta, y_obs, x, y_unc))) # complete\n"
   ]
  },
  {
   "cell_type": "markdown",
   "metadata": {
    "slideshow": {
     "slide_type": "subslide"
    }
   },
   "source": [
    "*write your answer here*\n"
   ]
  },
  {
   "cell_type": "markdown",
   "metadata": {
    "slideshow": {
     "slide_type": "slide"
    }
   },
   "source": [
    "## Problem 3) The Metropolis-Hastings Algorithm\n",
    "\n",
    "The [Metropolis-Hastings Algorithm](https://en.wikipedia.org/wiki/Metropolis%E2%80%93Hastings_algorithm) (MH) is the most simple [Markov Chain](https://en.wikipedia.org/wiki/Markov_chain) [Monte Carlo](https://en.wikipedia.org/wiki/Monte_Carlo_method) ([MCMC](https://en.wikipedia.org/wiki/Markov_chain_Monte_Carlo)) procedure for estimating Bayesian posteriors. "
   ]
  },
  {
   "cell_type": "markdown",
   "metadata": {
    "slideshow": {
     "slide_type": "subslide"
    }
   },
   "source": [
    "We will cover the nitty gritty (i.e., mathematics) of how MCMC works tomorrow. For now, we will focus on Metropolis-Hastings as an algorithm, and assume it works.  "
   ]
  },
  {
   "cell_type": "markdown",
   "metadata": {
    "slideshow": {
     "slide_type": "slide"
    }
   },
   "source": [
    "The pseudo-code for the MH algorithm is:\n",
    "\n",
    "0. pick some position $\\theta_0$ in the parameter space and calculate the posterior $P(\\theta_{0}\\mid \\mathbf{x})$\n",
    "1. begin the chain\n",
    "    - \"propose\" a move from the current position $\\theta_{i}$ to a new position $\\theta_{i+1}$\n",
    "    - calculate the posterior at $\\theta_{i+1}$, $P(\\theta_{i+1}\\mid \\mathbf{x})$\n",
    "    - draw a random number, $R \\sim \\mathcal{U}(0,1)$\n",
    "    - if the ratio $P(\\theta_{i+1}\\mid \\mathbf{x})/P(\\theta_{i}\\mid \\mathbf{x})$ is $> R$, \"accept\" the proposed move and advance the chain to $\\theta_{i+1}$\n",
    "    - else \"reject\" the proposal and set $\\theta_{i+1} = \\theta_{i}$\n",
    "\n",
    "2. repeat until chain is \"finished\""
   ]
  },
  {
   "cell_type": "markdown",
   "metadata": {
    "slideshow": {
     "slide_type": "slide"
    }
   },
   "source": [
    "A few subtleties worth noting: the use of the random number is essential for allowing the MH algorithm to \"explore\" the full posterior. It's actually possible to add links to the chain that are less probable than the current position. This is an important distinction relative to optimization routines that simply identify local maxima, but only progressing in the direction of increased probability.\n",
    "\n",
    "Also \"finished\" isn't really defined - we will cover this tomorrow."
   ]
  },
  {
   "cell_type": "markdown",
   "metadata": {
    "slideshow": {
     "slide_type": "slide"
    }
   },
   "source": [
    "An extra subtle point: technically you need to calculate the full Hastings ratio, $H$, when evaluating whether or not to accept or reject a proposal:\n",
    "\n",
    "$$H = \\frac{\\pi(\\theta_{i+1})}{\\pi(\\theta_{i})} \\frac{q(\\theta_i \\mid \\theta_{i+1})}{q(\\theta_{i+1} \\mid \\theta_{i})},$$\n",
    "\n",
    "where $q(\\theta_i \\mid \\theta_{i+1})/q(\\theta_{i+1} \\mid \\theta_{i})$ is the ratio of transition probabilities from $\\theta_{i+1}$ to $\\theta_{i}$ and back again. \n",
    "\n",
    "Fortunately, most proposals are symmetric, including what we will implement, meaning the ratio of transition probabilities is 1, and thus, this term can be safely ignored."
   ]
  },
  {
   "cell_type": "markdown",
   "metadata": {
    "slideshow": {
     "slide_type": "slide"
    }
   },
   "source": [
    "**Problem 3a**\n",
    "\n",
    "Write a function `hastings_ratio` to calculate the ratio of log-posterior values at `theta_1` relative to `theta_0`.\n",
    "\n",
    "*Hint* – assume the ratio of transition probabilities is 1."
   ]
  },
  {
   "cell_type": "code",
   "execution_count": 45,
   "metadata": {
    "slideshow": {
     "slide_type": "subslide"
    }
   },
   "outputs": [],
   "source": [
    "def hastings_ratio(theta_1, theta_0, y, x, y_unc):\n",
    "    '''\n",
    "    Calculate the Hastings ratio\n",
    "    \n",
    "    Parameters\n",
    "    ----------\n",
    "    theta_1 : tuple\n",
    "        proposed new posterior position \n",
    "    \n",
    "    theta_0 : tuple\n",
    "        current posterior position\n",
    "    \n",
    "    y : arr-like, shape (n_samples)\n",
    "        Array of observational measurements\n",
    "    \n",
    "    x : arr-like, shape (n_samples)\n",
    "        Array of positions where y is measured\n",
    "    \n",
    "    y_unc : arr-like, shape (n_samples)\n",
    "        Array of uncertainties on y\n",
    "        \n",
    "    Returns\n",
    "    -------\n",
    "    h_ratio : float\n",
    "        The Hastings ratio\n",
    "    '''\n",
    "    lnpost1 = lnposterior(theta_1,y, x, y_unc) # complete\n",
    "    lnpost0 = lnposterior(theta_0,y, x, y_unc)# complete\n",
    "    \n",
    "    h_ratio = np.exp(lnpost1-lnpost0)\n",
    "    \n",
    "    return h_ratio"
   ]
  },
  {
   "cell_type": "markdown",
   "metadata": {
    "slideshow": {
     "slide_type": "slide"
    }
   },
   "source": [
    "**Problem 3b**\n",
    "\n",
    "Calculate the Hastings ratio to move from $(2.1, 50)$ to $(2.2,30)$.\n",
    "\n",
    "How often would the algorithm accept this step?"
   ]
  },
  {
   "cell_type": "code",
   "execution_count": 46,
   "metadata": {
    "slideshow": {
     "slide_type": "subslide"
    }
   },
   "outputs": [
    {
     "name": "stdout",
     "output_type": "stream",
     "text": [
      "The Hastings ratio is: 55.7871\n"
     ]
    }
   ],
   "source": [
    "print('The Hastings ratio is: {:.4f}'.format(hastings_ratio((2.2,30),(2.1,50), y_obs, x, y_unc))) # complete"
   ]
  },
  {
   "cell_type": "markdown",
   "metadata": {
    "slideshow": {
     "slide_type": "subslide"
    }
   },
   "source": [
    "*write your answer here*\n",
    "\n",
    "In this case $H > 1$, and thus this proposed move  would be accepted every time."
   ]
  },
  {
   "cell_type": "markdown",
   "metadata": {
    "slideshow": {
     "slide_type": "slide"
    }
   },
   "source": [
    "**Problem 3c** \n",
    "\n",
    "What about the reverse proposal? Calculate the Hastings ratio to move from (2.2, 30) to (2.1, 50). \n",
    "\n",
    "On average, how many times would such a proposal need to be made to be accepted by the MH algortihm?"
   ]
  },
  {
   "cell_type": "code",
   "execution_count": 47,
   "metadata": {
    "slideshow": {
     "slide_type": "subslide"
    }
   },
   "outputs": [
    {
     "name": "stdout",
     "output_type": "stream",
     "text": [
      "The Hastings ratio is: 0.0179\n"
     ]
    }
   ],
   "source": [
    "print('The Hastings ratio is: {:.4f}'.format(hastings_ratio((2.1,50),(2.2,30), y_obs, x, y_unc))) # complete"
   ]
  },
  {
   "cell_type": "markdown",
   "metadata": {
    "slideshow": {
     "slide_type": "subslide"
    }
   },
   "source": [
    "*write your answer here*\n"
   ]
  },
  {
   "cell_type": "markdown",
   "metadata": {
    "slideshow": {
     "slide_type": "subslide"
    }
   },
   "source": [
    "As we will show below, the difference between an MCMC chain that takes forever and one that samples the posterior \"quickly\" is largely a function of the proposal distribution. \n",
    "\n",
    "We want a symmetric proposal to ensure the transition ratio is equal to 1. The easiest way to accomplish this is with a normal distribution centered at the current position in the posterior, with a user-defined covariance matrix. (Today we will assume the covariance matrix is  diagonal)."
   ]
  },
  {
   "cell_type": "markdown",
   "metadata": {
    "slideshow": {
     "slide_type": "subslide"
    }
   },
   "source": [
    "**Problem 3d**\n",
    "\n",
    "Write a function `propose_jump` that creates new proposal positions for the MCMC chain, based on its current position, `theta`, and a covariance matrix, `cov`, for the multivariate normal distribution centered on `theta`.\n",
    "\n",
    "*Hint 1* - allow `cov` to be either 1-D with standard deviations as the input, in which case the entries are converted to a diagonal matrix, or 2-D, where the full covariance matrix is specified.\n",
    "\n",
    "*Hint 2* - you may find [`numpy.random.multivariate_normal`](https://docs.scipy.org/doc/numpy-1.14.0/reference/generated/numpy.random.multivariate_normal.html) helpful."
   ]
  },
  {
   "cell_type": "code",
   "execution_count": 51,
   "metadata": {
    "slideshow": {
     "slide_type": "subslide"
    }
   },
   "outputs": [],
   "source": [
    "def propose_jump(theta, cov):\n",
    "    '''\n",
    "    Generate a proposed new position for MCMC chain\n",
    "    \n",
    "    Parameters\n",
    "    ----------\n",
    "    theta : 1-D array_like, of length N\n",
    "        current position of the MCMC chain\n",
    "    \n",
    "    cov : 1-D or 2-D array_like, of shape (N,) or (N, N)\n",
    "        Covariance matrix of the distribution. It must be symmetric \n",
    "        and positive-semidefinite for proper sampling.\n",
    "        \n",
    "        1-D inputs for cov require the standard deviation along \n",
    "        each axis of the N-dimensional Gaussian.\n",
    "\n",
    "    \n",
    "    Returns\n",
    "    -------\n",
    "    proposed_position : 1-D array_like, of length N\n",
    "    '''\n",
    "    if np.shape(theta) == np.shape(cov):\n",
    "        cov = np.diag(np.array(cov)**2)\n",
    "    \n",
    "    proposed_position = np.random.multivariate_normal(theta,cov)\n",
    "    \n",
    "    return proposed_position"
   ]
  },
  {
   "cell_type": "markdown",
   "metadata": {
    "slideshow": {
     "slide_type": "slide"
    }
   },
   "source": [
    "**Problem 3e**\n",
    "\n",
    "Propose 5 random steps from the position $(m, b) = (2, 45)$, and calculate the Hastings ratio for each of the 5 proposals. Use a standard deviation of 1 along both axes of the multivariate normal distribution.\n",
    "\n",
    "Do you notice anything interesting about your results?"
   ]
  },
  {
   "cell_type": "code",
   "execution_count": 54,
   "metadata": {
    "slideshow": {
     "slide_type": "subslide"
    }
   },
   "outputs": [
    {
     "name": "stdout",
     "output_type": "stream",
     "text": [
      "Jumping to [ 3.51525862 45.14685999], gives H = 130720215015505580772141563904.0000\n",
      "Jumping to [ 3.2553564  44.82943738], gives H = 182534564020682162176.0000\n",
      "Jumping to [ 2.39927015 42.12563863], gives H = 95.7516\n",
      "Jumping to [ 1.49562425 44.7816427 ], gives H = 82.5864\n",
      "Jumping to [ 2.38155978 44.42093965], gives H = 188.5158\n"
     ]
    }
   ],
   "source": [
    "theta_0 = (2,45)\n",
    "for _ in range(5):\n",
    "    new_pos = propose_jump(theta_0, (1,1))\n",
    "    H = hastings_ratio( theta_0, new_pos, y_obs, x, y_unc)\n",
    "    print('Jumping to {}, gives H = {:.4f}'.format(new_pos, H))"
   ]
  },
  {
   "cell_type": "markdown",
   "metadata": {
    "slideshow": {
     "slide_type": "subslide"
    }
   },
   "source": [
    "*write your answer here*\n"
   ]
  },
  {
   "cell_type": "markdown",
   "metadata": {
    "slideshow": {
     "slide_type": "slide"
    }
   },
   "source": [
    "**Problem 3f**\n",
    "\n",
    "Repeat **3e** but this time use a standard deviation of 0.1 for the slope and 10 for intercept.\n",
    "\n",
    "Are the results substantially different?"
   ]
  },
  {
   "cell_type": "code",
   "execution_count": 56,
   "metadata": {
    "slideshow": {
     "slide_type": "subslide"
    }
   },
   "outputs": [
    {
     "name": "stdout",
     "output_type": "stream",
     "text": [
      "Jumping to [ 1.78319112 36.65124256], gives H = 1.5064\n",
      "Jumping to [ 2.1461659  41.13634635], gives H = 1.1007\n",
      "Jumping to [ 1.92679114 60.39527698], gives H = 60.7849\n",
      "Jumping to [ 1.97434087 39.79924934], gives H = 0.4151\n",
      "Jumping to [ 1.85650902 38.39621794], gives H = 0.6440\n"
     ]
    }
   ],
   "source": [
    "theta_0 = (2,45)\n",
    "for _ in range(5):\n",
    "    new_pos = propose_jump(theta_0, (0.1,10))\n",
    "    H = hastings_ratio( theta_0,new_pos, y_obs, x, y_unc)\n",
    "    print('Jumping to {}, gives H = {:.4f}'.format(new_pos, H))"
   ]
  },
  {
   "cell_type": "markdown",
   "metadata": {
    "slideshow": {
     "slide_type": "subslide"
    }
   },
   "source": [
    "*write your answer here*\n",
    "\n",
    "The Hastings ratios are now much larger. It is clear that the width of the multivariate normal along each axis will affect the efficiency of the MH sampler."
   ]
  },
  {
   "cell_type": "markdown",
   "metadata": {
    "slideshow": {
     "slide_type": "slide"
    }
   },
   "source": [
    "Referring back to the pseudo code above, we now have all the ingredients necessary to put together a MH sampler. We just need to stitch everything together so that we actually form a chain."
   ]
  },
  {
   "cell_type": "markdown",
   "metadata": {
    "slideshow": {
     "slide_type": "slide"
    }
   },
   "source": [
    "**Problem 3g**\n",
    "\n",
    "Write a function `mh_mcmc` that takes an initial position `theta_0`, covariance matrix for the multivariate normal proposal distribution `cov`, total number of steps `nsteps`, and observations `y`, `x`, and `y_unc` as inputs and returns the Metropolis-Hastings chain for the given inputs.\n",
    "\n",
    "The output \"chain\" should include the position of the chain within the parameter space, the log of the posterior at that position, and the \"acceptance ratio\" of the chain until that point. The acceptance ratio is the fraction of previously proposed steps (including the current proposal) that have been accepted. We will come back to this later."
   ]
  },
  {
   "cell_type": "code",
   "execution_count": null,
   "metadata": {
    "slideshow": {
     "slide_type": "subslide"
    }
   },
   "outputs": [],
   "source": [
    "def mh_mcmc(theta_0, cov, nsteps, y, x, y_unc):\n",
    "    '''\n",
    "    Metropolis-Hastings MCMC algorithm\n",
    "    \n",
    "    Parameters\n",
    "    ----------\n",
    "    theta_0 : 1-D array_like of shape N\n",
    "        starting position for the MCMC chain\n",
    "    \n",
    "    cov : 1-D or 2-D array_like, of shape (N,) or (N, N)\n",
    "        Covariance matrix of the distribution. It must be symmetric \n",
    "        and positive-semidefinite for proper sampling.\n",
    "        \n",
    "        1-D inputs for cov require the standard deviation along \n",
    "        each axis of the N-dimensional Gaussian.\n",
    "\n",
    "    nsteps : int\n",
    "        Number of steps to take in the MCMC chain\n",
    "        \n",
    "    y : arr-like, shape (n_samples)\n",
    "        Array of observational measurements\n",
    "    \n",
    "    x : arr-like, shape (n_samples)\n",
    "        Array of positions where y is measured\n",
    "    \n",
    "    y_unc : arr-like, shape (n_samples)\n",
    "        Array of uncertainties on y\n",
    "        \n",
    "    Returns\n",
    "    -------\n",
    "    (positions, lnpost_at_pos, acceptance_ratio) : tuple\n",
    "        positions : 2-D array_like of shape (nsteps+1, N)\n",
    "            Position of the MCMC chain at every step\n",
    "        \n",
    "        lnpost_at_pos : 1-D array_like of shape nsteps+1\n",
    "            log-posterior value at the position of the MCMC chain\n",
    "        \n",
    "        acceptance_ratio : 1-D array_like of shape nsteps+1\n",
    "            acceptance ratio of all previous steps in the chain    \n",
    "    '''\n",
    "    \n",
    "    positions = np.zeros((nsteps+1, len(theta_0)))\n",
    "    lnpost_at_pos = -np.inf*np.ones(nsteps+1)\n",
    "    acceptance_ratio = np.zeros_like(lnpost_at_pos)\n",
    "    accepted = 0\n",
    "    \n",
    "    # complete\n",
    "    # complete\n",
    "    # complete\n",
    "    # complete\n",
    "    # complete\n",
    "    # complete\n",
    "    # complete\n",
    "    # complete\n",
    "    # complete\n",
    "    # complete\n",
    "    # complete\n",
    "    # complete\n",
    "    # complete\n",
    "    \n",
    "    \n",
    "    return (positions, lnpost_at_pos, acceptance_ratio)"
   ]
  },
  {
   "cell_type": "markdown",
   "metadata": {
    "slideshow": {
     "slide_type": "slide"
    }
   },
   "source": [
    "**Problem 3h**\n",
    "\n",
    "Run the MH sampler! \n",
    "\n",
    "Using a starting point of $(m, b) = (2.7, -70)$ (this is estimated from the two most extreme points in the dataset), `cov = (0.25, 5)`, and run the chain for 500 steps."
   ]
  },
  {
   "cell_type": "code",
   "execution_count": null,
   "metadata": {
    "slideshow": {
     "slide_type": "subslide"
    }
   },
   "outputs": [],
   "source": [
    "pos, lnpost, acc = mh_mcmc((2.7,-70), (0.25, 5), 500, y_obs, x, y_unc)"
   ]
  },
  {
   "cell_type": "markdown",
   "metadata": {
    "slideshow": {
     "slide_type": "slide"
    }
   },
   "source": [
    "**Problem 3i**\n",
    "\n",
    "Plot the positions of the chain in the $(m, b)$ plane. Overplot the true answer as a five-pointed star.\n",
    "\n",
    "Does your plot \"make sense\"?\n",
    "\n",
    "*Hint* – connect the points with line segments so you can visualize its evolution. \n",
    "\n",
    "*Hint 2* – set `alpha = 0.4` to get a sense of positions where multiple proposals were required for the chain to move."
   ]
  },
  {
   "cell_type": "code",
   "execution_count": null,
   "metadata": {
    "scrolled": false,
    "slideshow": {
     "slide_type": "subslide"
    }
   },
   "outputs": [],
   "source": [
    "fig, ax = plt.subplots()\n",
    "ax.plot( # complete\n",
    "ax.plot(# complete, \n",
    "        '*', ms=30, \n",
    "        mfc='Crimson', mec='0.8', mew=2, \n",
    "        alpha=0.7)\n",
    "ax.set_xlabel('m', fontsize=14)\n",
    "ax.set_ylabel('b', fontsize=14)\n",
    "fig.tight_layout()"
   ]
  },
  {
   "cell_type": "markdown",
   "metadata": {
    "slideshow": {
     "slide_type": "slide"
    }
   },
   "source": [
    "**Problem 3j**\n",
    "\n",
    "Recreate the above plot, but this time color code the individual points by the value of the log posterior at each position.\n",
    "\n",
    "*Hint* –– you will want to use [`pyplot.scatter`](https://matplotlib.org/3.1.1/api/_as_gen/matplotlib.pyplot.scatter.html)"
   ]
  },
  {
   "cell_type": "code",
   "execution_count": null,
   "metadata": {
    "slideshow": {
     "slide_type": "slide"
    }
   },
   "outputs": [],
   "source": [
    "fig, ax = plt.subplots()\n",
    "ax.plot(pos[:,0], pos[:,1], 'o-', alpha=0.3)\n",
    "ax.scatter( # complete\n",
    "ax.plot(# complete, \n",
    "        '*', ms=30, \n",
    "        mfc='Crimson', mec='0.8', mew=2, \n",
    "        alpha=0.7, zorder=20)\n",
    "ax.set_xlabel('m', fontsize=14)\n",
    "ax.set_ylabel('b', fontsize=14)\n",
    "cbar = fig.colorbar(cax)\n",
    "cbar.ax.set_ylabel(r'$\\log \\; \\pi (\\theta)$', fontsize=12)\n",
    "fig.tight_layout()"
   ]
  },
  {
   "cell_type": "markdown",
   "metadata": {
    "slideshow": {
     "slide_type": "slide"
    }
   },
   "source": [
    "Awesome! \n",
    "\n",
    "You are now tooled up to solve any Bayesian problem that you might encounter."
   ]
  },
  {
   "cell_type": "markdown",
   "metadata": {
    "slideshow": {
     "slide_type": "slide"
    }
   },
   "source": [
    "## Problem 4) Optimizing MH\n",
    "\n",
    "While you are now, no doubt, wildly excited about what you have accomplished in $\\sim{90}$ min time, there should be a few things that bother you. In particular, there were several \"hard coded\" options in the previous problem. "
   ]
  },
  {
   "cell_type": "markdown",
   "metadata": {
    "slideshow": {
     "slide_type": "subslide"
    }
   },
   "source": [
    "#### Weird Choice #1\n",
    "\n",
    "Why 500 steps? \n",
    "\n",
    "It's clear from **3i** that ~10-20 steps is no where near enough, as the chain does not sample the maximum of the posterior. But is 500 steps too many? Or is it not enough?\n",
    "\n",
    "(There are mathematical ways to judge this, which we will cover tomorrow)"
   ]
  },
  {
   "cell_type": "markdown",
   "metadata": {
    "slideshow": {
     "slide_type": "subslide"
    }
   },
   "source": [
    "#### Weird Choice #2\n",
    "\n",
    "Why `(0.2, 10)` for the widths of the multivariate normal proposal function?\n",
    "\n",
    "Previously we argued that it's possible to take steps that are too large, but is it also possible the steps are too small?\n",
    "\n",
    "(Technically, as we will see tomorrow, the step size does not matter as all MCMC chains will eventually eplore the full posterior within an infinite number of steps, but who amoung us can wait infinity seconds to learn the slope of this line?)"
   ]
  },
  {
   "cell_type": "markdown",
   "metadata": {
    "slideshow": {
     "slide_type": "subslide"
    }
   },
   "source": [
    "#### Weird Choice #3\n",
    "\n",
    "Why did we start the chain at (2.7,-70)?\n",
    "\n",
    "(Again, technically this does not matter, but do you want to wait for an infinite number of steps before getting the results?)"
   ]
  },
  {
   "cell_type": "markdown",
   "metadata": {
    "slideshow": {
     "slide_type": "subslide"
    }
   },
   "source": [
    "Tommorrow we will formalize all of these choices, for now we will try to develop some intuition via some graphical examples."
   ]
  },
  {
   "cell_type": "markdown",
   "metadata": {
    "slideshow": {
     "slide_type": "slide"
    }
   },
   "source": [
    "**Problem 4a**\n",
    "\n",
    "Write a function `plot_post` that recreates the plots from **3i** and **3j** side by side given inputs \n",
    "`theta_0`, `cov`, `nsteps`, `y`, `x`, and `y_unc`."
   ]
  },
  {
   "cell_type": "code",
   "execution_count": null,
   "metadata": {},
   "outputs": [],
   "source": [
    "def plot_post(theta_0, cov, nsteps, y, x, y_unc):\n",
    "    '''\n",
    "    Plot posterior trace from MH MCMC\n",
    "    \n",
    "    Parameters\n",
    "    ----------\n",
    "    theta_0 : 1-D array_like of shape N\n",
    "        starting position for the MCMC chain\n",
    "    \n",
    "    cov : 1-D or 2-D array_like, of shape (N,) or (N, N)\n",
    "        Covariance matrix of the distribution. It must be symmetric \n",
    "        and positive-semidefinite for proper sampling.\n",
    "        \n",
    "        1-D inputs for cov require the standard deviation along \n",
    "        each axis of the N-dimensional Gaussian.\n",
    "\n",
    "    nsteps : int\n",
    "        Number of steps to take in the MCMC chain\n",
    "        \n",
    "    y : arr-like, shape (n_samples)\n",
    "        Array of observational measurements\n",
    "    \n",
    "    x : arr-like, shape (n_samples)\n",
    "        Array of positions where y is measured\n",
    "    \n",
    "    y_unc : arr-like, shape (n_samples)\n",
    "        Array of uncertainties on y\n",
    "    '''\n",
    "    # complete\n",
    "    # complete\n",
    "    # complete\n",
    "    # complete\n",
    "    # complete\n",
    "    # complete\n",
    "    # complete\n",
    "    # complete\n",
    "    # complete\n",
    "    # complete\n",
    "    # complete\n",
    "    # complete\n",
    "    # complete\n",
    "    # complete\n",
    "    # complete\n",
    "    # complete\n",
    "    # complete\n",
    "    # complete\n",
    "    \n",
    "    \n",
    "    return"
   ]
  },
  {
   "cell_type": "markdown",
   "metadata": {
    "slideshow": {
     "slide_type": "slide"
    }
   },
   "source": [
    "**Problem 4b**\n",
    "\n",
    "Plot the MH chain using `theta_0 = (2.7, -70)`, `cov = (0.25, 5)`, for 50 steps.\n",
    "\n",
    "Do the same for a chain with 5000 steps.\n",
    "\n",
    "What changes do you notice as you vary the number of steps?"
   ]
  },
  {
   "cell_type": "code",
   "execution_count": null,
   "metadata": {
    "slideshow": {
     "slide_type": "subslide"
    }
   },
   "outputs": [],
   "source": [
    "# 50 step plot\n",
    "plot_post( # complete"
   ]
  },
  {
   "cell_type": "code",
   "execution_count": null,
   "metadata": {
    "slideshow": {
     "slide_type": "subslide"
    }
   },
   "outputs": [],
   "source": [
    "# 5000 step plot\n",
    "plot_post( # complete"
   ]
  },
  {
   "cell_type": "markdown",
   "metadata": {
    "slideshow": {
     "slide_type": "subslide"
    }
   },
   "source": [
    "*write your answer here*\n",
    "\n"
   ]
  },
  {
   "cell_type": "markdown",
   "metadata": {
    "slideshow": {
     "slide_type": "slide"
    }
   },
   "source": [
    "**Problem 4b**\n",
    "\n",
    "Plot the MH chain using `theta_0 = (2.7, -70)`, `cov = (.025, .5)`, for 500 steps.\n",
    "\n",
    "Do the same for `cov = (2.5, 50)`.\n",
    "\n",
    "What changes do you notice as you vary the size of the proposal distribution?"
   ]
  },
  {
   "cell_type": "code",
   "execution_count": null,
   "metadata": {
    "slideshow": {
     "slide_type": "subslide"
    }
   },
   "outputs": [],
   "source": [
    "# cov = (0.025, .5) plot\n",
    "plot_post( # complete"
   ]
  },
  {
   "cell_type": "code",
   "execution_count": null,
   "metadata": {
    "slideshow": {
     "slide_type": "subslide"
    }
   },
   "outputs": [],
   "source": [
    "# cov = (2.5, 50) plot\n",
    "plot_post( # complete"
   ]
  },
  {
   "cell_type": "markdown",
   "metadata": {
    "slideshow": {
     "slide_type": "subslide"
    }
   },
   "source": [
    "*write your answer here*\n"
   ]
  },
  {
   "cell_type": "markdown",
   "metadata": {
    "slideshow": {
     "slide_type": "slide"
    }
   },
   "source": [
    "**Problem 4c**\n",
    "\n",
    "Plot the MH chain using `theta_0 = (27, -100)`, `cov = (.25, 5)`, for 500 steps.\n",
    "\n",
    "Do the same for `theta_0 = (.27, -7)`.\n",
    "\n",
    "What changes do you notice as you vary the starting position of the chain?"
   ]
  },
  {
   "cell_type": "code",
   "execution_count": null,
   "metadata": {
    "slideshow": {
     "slide_type": "subslide"
    }
   },
   "outputs": [],
   "source": [
    "# theta_0 = (27, -100) plot\n",
    "plot_post( # complete"
   ]
  },
  {
   "cell_type": "code",
   "execution_count": null,
   "metadata": {
    "slideshow": {
     "slide_type": "subslide"
    }
   },
   "outputs": [],
   "source": [
    "# theta_0 = (.27, -7) plot\n",
    "plot_post( # complete"
   ]
  },
  {
   "cell_type": "markdown",
   "metadata": {
    "slideshow": {
     "slide_type": "subslide"
    }
   },
   "source": [
    "*write your answer here*\n"
   ]
  },
  {
   "cell_type": "markdown",
   "metadata": {
    "slideshow": {
     "slide_type": "slide"
    }
   },
   "source": [
    "When evaluating MCMC chains, there are many different diagnostic plots that are helpful for that purpose. \n",
    "\n",
    "Below is a helper function that overplots draws from the posterior on top of the observations, an estimate of the posterior, and the 1-d chains for $m$, $b$, $\\log \\pi$, and the acceptance rate."
   ]
  },
  {
   "cell_type": "code",
   "execution_count": null,
   "metadata": {
    "slideshow": {
     "slide_type": "slide"
    }
   },
   "outputs": [],
   "source": [
    "def plot_mh_summary(theta_0, cov, nsteps, y, x, y_unc):\n",
    "    '''\n",
    "    Plot the posterior, draws from the posterior, and 1-d chains\n",
    "    \n",
    "    Parameters\n",
    "    ----------\n",
    "    theta_0 : 1-D array_like of shape N\n",
    "        starting position for the MCMC chain\n",
    "    \n",
    "    cov : 1-D or 2-D array_like, of shape (N,) or (N, N)\n",
    "        Covariance matrix of the distribution. It must be symmetric \n",
    "        and positive-semidefinite for proper sampling.\n",
    "        \n",
    "        1-D inputs for cov require the standard deviation along \n",
    "        each axis of the N-dimensional Gaussian.\n",
    "\n",
    "    nsteps : int\n",
    "        Number of steps to take in the MCMC chain\n",
    "        \n",
    "    y : arr-like, shape (n_samples)\n",
    "        Array of observational measurements\n",
    "    \n",
    "    x : arr-like, shape (n_samples)\n",
    "        Array of positions where y is measured\n",
    "    \n",
    "    y_unc : arr-like, shape (n_samples)\n",
    "        Array of uncertainties on y\n",
    "    '''\n",
    "    pos, lnpost, acc = mh_mcmc(theta_0, cov, nsteps, y_obs, x, y_unc)\n",
    "\n",
    "    fig = plt.figure(figsize=(7.5,6))\n",
    "    ax1 = plt.subplot2grid((4,5), (0, 0), colspan=2, rowspan=2)\n",
    "    ax2 = plt.subplot2grid((4,5), (2, 0), colspan=2, rowspan=2)\n",
    "    ax3 = plt.subplot2grid((4,5), (0, 2), colspan=3)\n",
    "    ax4 = plt.subplot2grid((4,5), (1, 2), colspan=3, sharex=ax3)\n",
    "    ax5 = plt.subplot2grid((4,5), (2, 2), colspan=3, sharex=ax3)\n",
    "    ax6 = plt.subplot2grid((4,5), (3, 2), colspan=3, sharex=ax3)\n",
    "\n",
    "    # posterior\n",
    "    ax1.hexbin(pos[:,0], pos[:,1], gridsize=50, mincnt=1, bins='log')\n",
    "    ax1.plot(2.3, 15, '*', ms=30, \n",
    "        mfc='Crimson', mec='0.8', mew=2, \n",
    "        alpha=0.7)\n",
    "    ylims = ax1.get_ylim()\n",
    "    xlims = ax1.get_xlim()\n",
    "    ax1.plot([2.3, 2.3], ylims, 'Crimson', alpha=0.3)\n",
    "    ax1.plot(xlims, [15, 15], 'Crimson', alpha=0.3)\n",
    "    ax1.set_ylim(ylims)\n",
    "    ax1.set_xlim(xlims)\n",
    "    ax1.set_xlabel('m')\n",
    "    ax1.set_ylabel('b')\n",
    "    ax1.xaxis.set_ticks_position('top')\n",
    "    ax1.xaxis.set_label_position('top')\n",
    "    ax1.tick_params(top=True, bottom=False)\n",
    "    \n",
    "    # posterior draws\n",
    "    ax2.errorbar(x, y_obs, y_unc, fmt='o')\n",
    "#     ax2.plot([0,100], \n",
    "#              b_true + m_true*np.array([0,100]),\n",
    "#              '--', color='DarkOrange', lw=2, zorder=-10)\n",
    "    for draw in np.random.choice(len(pos), 10, replace=False):\n",
    "        ax2.plot([0,100], pos[draw,1] + pos[draw,0]*np.array([0,100]),\n",
    "                 'DarkOrange', alpha=0.4)\n",
    "    ax2.set_xlabel('x')\n",
    "    ax2.set_ylabel('y')\n",
    "    \n",
    "    ax3.plot(pos[:,0])\n",
    "    ax3.set_ylabel('m')\n",
    "    \n",
    "    ax4.plot(pos[:,1])\n",
    "    ax4.set_ylabel('b')\n",
    "\n",
    "    ax5.plot(lnpost)\n",
    "    ax5.set_ylabel('$\\ln \\; \\pi$')\n",
    "\n",
    "    ax6.plot(acc)\n",
    "    ax6.set_ylabel('acceptance')\n",
    "    ax6.set_xlabel('step number')\n",
    "    plt.setp(ax3.get_xticklabels(), visible=False)\n",
    "    plt.setp(ax4.get_xticklabels(), visible=False)\n",
    "    plt.setp(ax5.get_xticklabels(), visible=False)\n",
    "    \n",
    "    fig.tight_layout()\n",
    "    fig.subplots_adjust(top=0.93, left=0.09, right=0.99, hspace=0.07, wspace=0.75)"
   ]
  },
  {
   "cell_type": "markdown",
   "metadata": {
    "slideshow": {
     "slide_type": "slide"
    }
   },
   "source": [
    "**Problem 4d**\n",
    "\n",
    "Create a summary plot using our \"default\" parameters of `theta_0 = (2.7, -70)`, `cov = (0.25, 5)`, and 500 steps."
   ]
  },
  {
   "cell_type": "code",
   "execution_count": null,
   "metadata": {
    "slideshow": {
     "slide_type": "subslide"
    }
   },
   "outputs": [],
   "source": [
    "plot_mh_summary( # complete"
   ]
  },
  {
   "cell_type": "markdown",
   "metadata": {
    "slideshow": {
     "slide_type": "slide"
    }
   },
   "source": [
    "Without proof, I will state that we are looking for the following as we diagnose our MCMC:\n",
    "\n",
    "1. dense sampling of the high probability portion of the posterior\n",
    "2. draws from the posterior that are mostly consistent with the data\n",
    "3. trace plots for m and b that are roughly i.i.d. (and do not show significant structure)\n",
    "4. log posterior values that oscillate around the maximum with variations no larger than a few\n",
    "5. a stable acceptance ratio of ~0.5 (note for simple problems 0.5 is good, for complex posteriors 0.25 is more likely)"
   ]
  },
  {
   "cell_type": "markdown",
   "metadata": {
    "slideshow": {
     "slide_type": "slide"
    }
   },
   "source": [
    "**Problem 4e**\n",
    "\n",
    "Vary the MH MCMC parameters to \"better\" sample the posterior according to the criteria given above. \n",
    "\n",
    "*Hint* – this will likely take a lot of trial and error."
   ]
  },
  {
   "cell_type": "code",
   "execution_count": null,
   "metadata": {
    "slideshow": {
     "slide_type": "subslide"
    }
   },
   "outputs": [],
   "source": [
    "plot_mh_summary( # complete"
   ]
  },
  {
   "cell_type": "markdown",
   "metadata": {
    "slideshow": {
     "slide_type": "slide"
    }
   },
   "source": [
    "## Challenge Problem) Inference & Forecasting"
   ]
  },
  {
   "cell_type": "markdown",
   "metadata": {
    "slideshow": {
     "slide_type": "slide"
    }
   },
   "source": [
    "**Challenge 1a**\n",
    "\n",
    "Based on your solution to the previous problem, what do you estimate is the value of $m$ and $b$? \n",
    "\n",
    "What are the marginalized 90% credible regions for these paramters? How does this compare to the true answer?"
   ]
  },
  {
   "cell_type": "code",
   "execution_count": null,
   "metadata": {
    "slideshow": {
     "slide_type": "subslide"
    }
   },
   "outputs": [],
   "source": [
    "# complete\n",
    "\n",
    "print('m = {0[0]:.3f} with a 90% credible region from {0[1]:.3f} to {0[2]:.3f}'.format( # complete\n",
    "print('b = {0[0]:.3f} with a 90% credible region from {0[1]:.3f} to {0[2]:.3f}'.format( # complete"
   ]
  },
  {
   "cell_type": "markdown",
   "metadata": {
    "slideshow": {
     "slide_type": "slide"
    }
   },
   "source": [
    "**Challenge 1b**\n",
    "\n",
    "How does your answer compare to the maximum-likelihood method? Estimate the values of $m$ and $b$ using [`scipy.optimize`](https://docs.scipy.org/doc/scipy/reference/optimize.minimize-neldermead.html).\n",
    "\n",
    "*Hint* –– you'll want to minimize the *negative* log likelihood, in order to estimate the optimal parameters for the model."
   ]
  },
  {
   "cell_type": "code",
   "execution_count": null,
   "metadata": {
    "slideshow": {
     "slide_type": "subslide"
    }
   },
   "outputs": [],
   "source": [
    "# complete"
   ]
  },
  {
   "cell_type": "markdown",
   "metadata": {
    "slideshow": {
     "slide_type": "slide"
    }
   },
   "source": [
    "**Challenge 1c**\n",
    "\n",
    "Based on your solutions above, what do you estimate is the value of y at x = 50?\n",
    "\n",
    "What is the 90% credible region for this prediction?"
   ]
  },
  {
   "cell_type": "code",
   "execution_count": null,
   "metadata": {
    "slideshow": {
     "slide_type": "subslide"
    }
   },
   "outputs": [],
   "source": [
    "# complete"
   ]
  },
  {
   "cell_type": "markdown",
   "metadata": {
    "slideshow": {
     "slide_type": "slide"
    }
   },
   "source": [
    "## Challenge Problem 2) Gibbs Sampler"
   ]
  },
  {
   "cell_type": "markdown",
   "metadata": {
    "slideshow": {
     "slide_type": "slide"
    }
   },
   "source": [
    "The [Gibbs sampler](https://en.wikipedia.org/wiki/Gibbs_sampling) is a special case of the Metropolis-Hastings sampler.\n",
    "\n",
    "Alter the Metropolis-Hastings algorithm that you have created to act as a Gibbs sampler. "
   ]
  },
  {
   "cell_type": "code",
   "execution_count": null,
   "metadata": {},
   "outputs": [],
   "source": [
    "# complete"
   ]
  }
 ],
 "metadata": {
  "celltoolbar": "Slideshow",
  "kernelspec": {
   "display_name": "Python 3",
   "language": "python",
   "name": "python3"
  },
  "language_info": {
   "codemirror_mode": {
    "name": "ipython",
    "version": 3
   },
   "file_extension": ".py",
   "mimetype": "text/x-python",
   "name": "python",
   "nbconvert_exporter": "python",
   "pygments_lexer": "ipython3",
   "version": "3.7.4"
  }
 },
 "nbformat": 4,
 "nbformat_minor": 2
}
